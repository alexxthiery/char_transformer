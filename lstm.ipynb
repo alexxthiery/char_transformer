{
 "cells": [
  {
   "cell_type": "code",
   "execution_count": 37,
   "id": "e2def0f4",
   "metadata": {},
   "outputs": [
    {
     "name": "stdout",
     "output_type": "stream",
     "text": [
      "The autoreload extension is already loaded. To reload it, use:\n",
      "  %reload_ext autoreload\n"
     ]
    }
   ],
   "source": [
    "# Enable autoreload of local Python modules (e.g., models)\n",
    "%load_ext autoreload\n",
    "%autoreload 2"
   ]
  },
  {
   "cell_type": "code",
   "execution_count": null,
   "id": "d5001b05",
   "metadata": {},
   "outputs": [],
   "source": [
    "import os\n",
    "os.environ[\"CUDA_VISIBLE_DEVICES\"] = \"0\"\n",
    "\n",
    "import numpy as np\n",
    "import jax\n",
    "import jax.numpy as jnp\n",
    "import optax\n",
    "import time\n",
    "\n",
    "# local imports\n",
    "from models.lstm import LSTM\n",
    "import util.generation as generation\n"
   ]
  },
  {
   "cell_type": "code",
   "execution_count": 39,
   "id": "906db4f2",
   "metadata": {},
   "outputs": [],
   "source": [
    "# initialize the jax random key\n",
    "key = jax.random.key(0)"
   ]
  },
  {
   "cell_type": "markdown",
   "id": "762a1c8f",
   "metadata": {},
   "source": [
    "# Load data"
   ]
  },
  {
   "cell_type": "code",
   "execution_count": 40,
   "id": "86825275",
   "metadata": {},
   "outputs": [
    {
     "name": "stdout",
     "output_type": "stream",
     "text": [
      "Length of training text: 90_000_000 characters\n",
      "Length of test text: 5_000_000 characters\n"
     ]
    }
   ],
   "source": [
    "# load the ./data/text8_train.txt and ./data/text8_test.txt files\n",
    "with open(\"./data/text8_train.txt\", \"r\") as f:\n",
    "    train_text = f.read()\n",
    "with open(\"./data/text8_test.txt\", \"r\") as f:\n",
    "    test_text = f.read()\n",
    "\n",
    "# print the length of the training text and test text\n",
    "print(f\"Length of training text: {len(train_text):_} characters\")\n",
    "print(f\"Length of test text: {len(test_text):_} characters\")"
   ]
  },
  {
   "cell_type": "markdown",
   "id": "7bfdca63",
   "metadata": {},
   "source": []
  },
  {
   "cell_type": "code",
   "execution_count": 41,
   "id": "34b1eafe",
   "metadata": {},
   "outputs": [],
   "source": [
    "# Build vocabulary (lowercase + space + a few punctuations)\n",
    "char_set = list(\"abcdefghijklmnopqrstuvwxyz \")\n",
    "char_to_int = {ch:i for i,ch in enumerate(char_set)}\n",
    "int_to_char = {i:ch for ch,i in char_to_int.items()}\n",
    "\n",
    "def encode(s):\n",
    "    \"\"\"Encode string to array of integers\"\"\"\n",
    "    ids = [char_to_int[c] for c in s]\n",
    "    return np.array(ids, dtype=np.uint8)  # use np.uint8 to save space"
   ]
  },
  {
   "cell_type": "code",
   "execution_count": 42,
   "id": "42b5af70",
   "metadata": {},
   "outputs": [],
   "source": [
    "# encode the text\n",
    "train_text_int = encode(train_text)\n",
    "test_text_int = encode(test_text)"
   ]
  },
  {
   "cell_type": "code",
   "execution_count": 43,
   "id": "6458536d",
   "metadata": {},
   "outputs": [
    {
     "name": "stdout",
     "output_type": "stream",
     "text": [
      "ctually entered epirus demanded in a somewhat threatening manner that if he were thus suddenly bidden to desist from war he shou\n",
      "\n",
      "ted hd broadcasting in january two zero zero one but only in august two zero zero three was hd content mandated most cities in a\n",
      "\n",
      "orm nurseries would eradicate the disease pasteur also discovered anaerobiosis whereby some microorganisms can develop and live \n",
      "\n",
      "sity less and less suitable for use in gasoline they form instead the major part of diesel and aviation fuel diesel fuels are ch\n",
      "\n",
      "tar wars films industrial light and magic steven spielberg jaws the one nine nine zero s technical advances the history of film \n",
      "\n"
     ]
    }
   ],
   "source": [
    "# sanity check: display a few random characters from the training text\n",
    "T = 128\n",
    "for _ in range(5):\n",
    "    # choose random position in text\n",
    "    N = np.random.randint(low=0, high=len(train_text)-T)\n",
    "    print(train_text[N:N+T])\n",
    "    print()"
   ]
  },
  {
   "cell_type": "markdown",
   "id": "7724c34b",
   "metadata": {},
   "source": [
    "# Create a basic LSTM model"
   ]
  },
  {
   "cell_type": "code",
   "execution_count": 44,
   "id": "e9d3715a",
   "metadata": {},
   "outputs": [],
   "source": [
    "def create_train_state(rng, vocab_size=27, hidden_size=64, n_layers=6, max_len=128):\n",
    "    # create a basic LSTM model\n",
    "    model = LSTM(vocab_size, hidden_size, n_layers, max_len)\n",
    "    # create a dummy input for initialization\n",
    "    dummy = jnp.zeros((1, min(16, max_len)), dtype=jnp.int32)\n",
    "    # pass the dummy input to the model to initialize the parameters\n",
    "    params = model.init({\"params\": rng}, dummy)[\"params\"]\n",
    "    return model, params"
   ]
  },
  {
   "cell_type": "code",
   "execution_count": 45,
   "id": "8b69fcbe",
   "metadata": {},
   "outputs": [
    {
     "ename": "AttributeError",
     "evalue": "\"Embed\" object has no attribute \"embedding\". If \"embedding\" is defined in '.setup()', remember these fields are only accessible from inside 'init' or 'apply'.",
     "output_type": "error",
     "traceback": [
      "\u001b[31m---------------------------------------------------------------------------\u001b[39m",
      "\u001b[31mAttributeError\u001b[39m                            Traceback (most recent call last)",
      "\u001b[36mCell\u001b[39m\u001b[36m \u001b[39m\u001b[32mIn[45]\u001b[39m\u001b[32m, line 13\u001b[39m\n\u001b[32m     10\u001b[39m \u001b[38;5;66;03m# maximum sequence length\u001b[39;00m\n\u001b[32m     11\u001b[39m max_len=\u001b[32m128\u001b[39m\n\u001b[32m---> \u001b[39m\u001b[32m13\u001b[39m model, params = \u001b[43mcreate_train_state\u001b[49m\u001b[43m(\u001b[49m\u001b[43mkey\u001b[49m\u001b[43m,\u001b[49m\u001b[43m \u001b[49m\u001b[43mvocab_size\u001b[49m\u001b[43m,\u001b[49m\u001b[43m \u001b[49m\u001b[43md_model\u001b[49m\u001b[43m,\u001b[49m\u001b[43m \u001b[49m\u001b[43mn_layers\u001b[49m\u001b[43m,\u001b[49m\u001b[43m \u001b[49m\u001b[43mmax_len\u001b[49m\u001b[43m)\u001b[49m\n",
      "\u001b[36mCell\u001b[39m\u001b[36m \u001b[39m\u001b[32mIn[44]\u001b[39m\u001b[32m, line 7\u001b[39m, in \u001b[36mcreate_train_state\u001b[39m\u001b[34m(rng, vocab_size, hidden_size, n_layers, max_len)\u001b[39m\n\u001b[32m      5\u001b[39m dummy = jnp.zeros((\u001b[32m1\u001b[39m, \u001b[38;5;28mmin\u001b[39m(\u001b[32m16\u001b[39m, max_len)), dtype=jnp.int32)\n\u001b[32m      6\u001b[39m \u001b[38;5;66;03m# pass the dummy input to the model to initialize the parameters\u001b[39;00m\n\u001b[32m----> \u001b[39m\u001b[32m7\u001b[39m params = \u001b[43mmodel\u001b[49m\u001b[43m.\u001b[49m\u001b[43minit\u001b[49m\u001b[43m(\u001b[49m\u001b[43m{\u001b[49m\u001b[33;43m\"\u001b[39;49m\u001b[33;43mparams\u001b[39;49m\u001b[33;43m\"\u001b[39;49m\u001b[43m:\u001b[49m\u001b[43m \u001b[49m\u001b[43mrng\u001b[49m\u001b[43m}\u001b[49m\u001b[43m,\u001b[49m\u001b[43m \u001b[49m\u001b[43mdummy\u001b[49m\u001b[43m)\u001b[49m[\u001b[33m\"\u001b[39m\u001b[33mparams\u001b[39m\u001b[33m\"\u001b[39m]\n\u001b[32m      8\u001b[39m \u001b[38;5;28;01mreturn\u001b[39;00m model, params\n",
      "    \u001b[31m[... skipping hidden 10 frame]\u001b[39m\n",
      "\u001b[36mFile \u001b[39m\u001b[32m~/Documents/char_transformer/.env/lib/python3.12/site-packages/flax/linen/linear.py:1189\u001b[39m, in \u001b[36mEmbed.__call__\u001b[39m\u001b[34m(self, inputs)\u001b[39m\n\u001b[32m   1185\u001b[39m   \u001b[38;5;28;01mraise\u001b[39;00m \u001b[38;5;167;01mValueError\u001b[39;00m(\u001b[33m'\u001b[39m\u001b[33mInput type must be an integer or unsigned integer.\u001b[39m\u001b[33m'\u001b[39m)\n\u001b[32m   1186\u001b[39m \u001b[38;5;66;03m# Use take because fancy indexing numpy arrays with JAX indices does not\u001b[39;00m\n\u001b[32m   1187\u001b[39m \u001b[38;5;66;03m# work correctly.\u001b[39;00m\n\u001b[32m   1188\u001b[39m (embedding,) = \u001b[38;5;28mself\u001b[39m.promote_dtype(\n\u001b[32m-> \u001b[39m\u001b[32m1189\u001b[39m   \u001b[38;5;28;43mself\u001b[39;49m\u001b[43m.\u001b[49m\u001b[43membedding\u001b[49m, dtype=\u001b[38;5;28mself\u001b[39m.dtype, inexact=\u001b[38;5;28;01mFalse\u001b[39;00m\n\u001b[32m   1190\u001b[39m )\n\u001b[32m   1191\u001b[39m \u001b[38;5;28;01massert\u001b[39;00m embedding \u001b[38;5;129;01mis\u001b[39;00m \u001b[38;5;129;01mnot\u001b[39;00m \u001b[38;5;28;01mNone\u001b[39;00m\n\u001b[32m   1192\u001b[39m \u001b[38;5;28;01mif\u001b[39;00m \u001b[38;5;28mself\u001b[39m.num_embeddings == \u001b[32m1\u001b[39m:\n",
      "\u001b[36mFile \u001b[39m\u001b[32m~/Documents/char_transformer/.env/lib/python3.12/site-packages/flax/linen/module.py:1314\u001b[39m, in \u001b[36mModule.__getattr__\u001b[39m\u001b[34m(self, name)\u001b[39m\n\u001b[32m   1309\u001b[39m \u001b[38;5;28;01mif\u001b[39;00m \u001b[38;5;28mself\u001b[39m.scope \u001b[38;5;129;01mis\u001b[39;00m \u001b[38;5;28;01mNone\u001b[39;00m:\n\u001b[32m   1310\u001b[39m   msg += (\n\u001b[32m   1311\u001b[39m     \u001b[33mf\u001b[39m\u001b[33m'\u001b[39m\u001b[33m If \u001b[39m\u001b[33m\"\u001b[39m\u001b[38;5;132;01m{\u001b[39;00mname\u001b[38;5;132;01m}\u001b[39;00m\u001b[33m\"\u001b[39m\u001b[33m is defined in \u001b[39m\u001b[38;5;130;01m\\'\u001b[39;00m\u001b[33m.setup()\u001b[39m\u001b[38;5;130;01m\\'\u001b[39;00m\u001b[33m, remember these fields \u001b[39m\u001b[33m'\u001b[39m\n\u001b[32m   1312\u001b[39m     \u001b[33m\"\u001b[39m\u001b[33mare only accessible from inside \u001b[39m\u001b[33m'\u001b[39m\u001b[33minit\u001b[39m\u001b[33m'\u001b[39m\u001b[33m or \u001b[39m\u001b[33m'\u001b[39m\u001b[33mapply\u001b[39m\u001b[33m'\u001b[39m\u001b[33m.\u001b[39m\u001b[33m\"\u001b[39m\n\u001b[32m   1313\u001b[39m   )\n\u001b[32m-> \u001b[39m\u001b[32m1314\u001b[39m \u001b[38;5;28;01mraise\u001b[39;00m \u001b[38;5;167;01mAttributeError\u001b[39;00m(msg)\n",
      "\u001b[31mAttributeError\u001b[39m: \"Embed\" object has no attribute \"embedding\". If \"embedding\" is defined in '.setup()', remember these fields are only accessible from inside 'init' or 'apply'."
     ]
    }
   ],
   "source": [
    "# vocab size\n",
    "vocab_size= len(char_set)\n",
    "\n",
    "# internal model dimensions\n",
    "d_model=128\n",
    "\n",
    "# number of LSTM layers\n",
    "n_layers=3\n",
    "\n",
    "# maximum sequence length\n",
    "max_len=128\n",
    "\n",
    "model, params = create_train_state(key, vocab_size, d_model, n_layers, max_len)"
   ]
  },
  {
   "cell_type": "code",
   "execution_count": null,
   "id": "c067e140",
   "metadata": {},
   "outputs": [
    {
     "name": "stdout",
     "output_type": "stream",
     "text": [
      "Number of parameters: 418_075\n"
     ]
    }
   ],
   "source": [
    "# compute the number of parameters\n",
    "def count_params(params):\n",
    "    return sum(x.size for x in jax.tree_util.tree_leaves(params))\n",
    "print(f\"Number of parameters: {count_params(params):_}\")"
   ]
  },
  {
   "cell_type": "code",
   "execution_count": null,
   "id": "52231d73",
   "metadata": {},
   "outputs": [
    {
     "name": "stdout",
     "output_type": "stream",
     "text": [
      "batch shape: (4, 32)\n",
      "logits shape: (4, 32, 27)\n"
     ]
    }
   ],
   "source": [
    "# sanity check: create a batch of data & run a forward pass\n",
    "B, T = 4, 32\n",
    "batch = jax.random.randint(\n",
    "    key=key,\n",
    "    shape=(B, T), minval=0, maxval=len(char_set))\n",
    "logits, states = model.apply({\"params\": params}, batch)\n",
    "\n",
    "print(\"batch shape:\", batch.shape)  # (B, T)\n",
    "print(\"logits shape:\", logits.shape)  # (B, T, vocab_size)"
   ]
  },
  {
   "cell_type": "code",
   "execution_count": null,
   "id": "761643cb",
   "metadata": {},
   "outputs": [
    {
     "data": {
      "text/plain": [
       "3"
      ]
     },
     "execution_count": 20,
     "metadata": {},
     "output_type": "execute_result"
    }
   ],
   "source": [
    "len(states)"
   ]
  },
  {
   "cell_type": "code",
   "execution_count": null,
   "id": "9955e022",
   "metadata": {},
   "outputs": [
    {
     "data": {
      "text/plain": [
       "jaxlib._jax.ArrayImpl"
      ]
     },
     "execution_count": 26,
     "metadata": {},
     "output_type": "execute_result"
    }
   ],
   "source": [
    "type(logits)"
   ]
  },
  {
   "cell_type": "markdown",
   "id": "b0213425",
   "metadata": {},
   "source": [
    "# Loss function"
   ]
  },
  {
   "cell_type": "code",
   "execution_count": null,
   "id": "ab7a3479",
   "metadata": {},
   "outputs": [],
   "source": [
    "@jax.jit\n",
    "def loss_and_metrics(logits, targets):\n",
    "    \"\"\"Compute cross-entropy loss and accuracy.\n",
    "\n",
    "    Assumes `targets` contains only valid integer class ids in [0, V-1] (no -1 ignore tokens).\n",
    "\n",
    "    Args:\n",
    "      logits: (B, T, V) float array of unnormalized scores.\n",
    "      targets: (B, T) integer array with ground-truth class ids.\n",
    "\n",
    "    Returns:\n",
    "      loss: scalar average cross-entropy over all positions.\n",
    "      metrics: dict with keys \"loss\" and \"acc\" (both scalars).\n",
    "    \"\"\"\n",
    "    # Flatten batch/time dims so optax works on shape (N, V) and (N,)\n",
    "    vocab = logits.shape[-1]\n",
    "    flat_logits = logits.reshape(-1, vocab)\n",
    "    flat_targets = targets.reshape(-1)\n",
    "\n",
    "    # Per-position cross-entropy, then mean over all positions\n",
    "    per_pos = optax.softmax_cross_entropy_with_integer_labels(flat_logits, flat_targets)\n",
    "    loss = per_pos.mean()\n",
    "\n",
    "    # prediction over all positions\n",
    "    preds = jnp.argmax(logits, axis=-1)  # (B, T)\n",
    "    \n",
    "    # compute accuracy over only the last position\n",
    "    is_match = preds == targets\n",
    "    \n",
    "    # Accuracy over all positions\n",
    "    acc_all = jnp.mean(is_match.astype(jnp.float32))\n",
    "    \n",
    "    # Accuracy over only last position\n",
    "    acc_last = jnp.mean(is_match.astype(jnp.float32)[:,-1])\n",
    "\n",
    "    return loss, {\"loss\": loss, \"acc\": acc_all, \"acc_last\": acc_last}"
   ]
  },
  {
   "cell_type": "markdown",
   "id": "05221147",
   "metadata": {},
   "source": [
    "# Optimization step:"
   ]
  },
  {
   "cell_type": "code",
   "execution_count": null,
   "id": "b720c846",
   "metadata": {},
   "outputs": [],
   "source": [
    "# create an update function\n",
    "def train_step(params, opt_state, x, y, tx):\n",
    "    \"\"\"Single optimization step using optax optimizer.\n",
    "\n",
    "    Args:\n",
    "      params: pytree of model parameters.\n",
    "      opt_state: optax optimizer state corresponding to `params`.\n",
    "      x: (B, T) int array input tokens.\n",
    "      y: (B, T) int array target tokens.\n",
    "      tx: optax.GradientTransformation (already initialized).\n",
    "\n",
    "    Returns:\n",
    "      new_params: updated parameters after one gradient step.\n",
    "      new_opt_state: updated optimizer state.\n",
    "      metrics: dict of scalar metrics (loss, acc).\n",
    "    \"\"\"\n",
    "    def loss_fn(params):\n",
    "        logits, states = model.apply({\"params\": params}, x)\n",
    "        loss, metrics = loss_and_metrics(logits, y)\n",
    "        return loss, metrics\n",
    "\n",
    "    # compute gradients (loss is scalar, metrics is auxiliary)\n",
    "    (loss, metrics), grads = jax.value_and_grad(loss_fn, has_aux=True)(params)\n",
    "\n",
    "    # optax update: compute parameter updates and new optimizer state\n",
    "    updates, new_opt_state = tx.update(grads, opt_state, params)\n",
    "    new_params = optax.apply_updates(params, updates)\n",
    "    return new_params, new_opt_state, metrics\n",
    "\n",
    "# jit: last argument should be static because it is an object\n",
    "train_step = jax.jit(train_step, static_argnames=(\"tx\",))"
   ]
  },
  {
   "cell_type": "markdown",
   "id": "269d8e59",
   "metadata": {},
   "source": [
    "# Batch creation:"
   ]
  },
  {
   "cell_type": "code",
   "execution_count": null,
   "id": "beb30f4e",
   "metadata": {},
   "outputs": [],
   "source": [
    "# create a batch from the training data\n",
    "def get_batch(text_int, B, T):\n",
    "    \"\"\"Create a random batch of data from text_int.\n",
    "\n",
    "    Args:\n",
    "      text_int: 1D array of token ids.\n",
    "      B: batch size (number of sequences).\n",
    "      T: sequence length (number of tokens per sequence).\n",
    "\n",
    "    Returns:\n",
    "      x: (B, T) int array input tokens.\n",
    "      y: (B, T) int array target tokens.\n",
    "    \"\"\"\n",
    "    # choose random starting indices for each sequence in the batch\n",
    "    ix = np.random.randint(0, len(text_int) - T, size=B)\n",
    "    # inputs are text from i to i+T\n",
    "    x = np.stack([text_int[i:i+T] for i in ix])\n",
    "    # targets are text from i+1 to i+T+1\n",
    "    y = np.stack([text_int[i+1:i+T+1] for i in ix])\n",
    "    return jnp.array(x, dtype=jnp.int32), jnp.array(y, dtype=jnp.int32)"
   ]
  },
  {
   "cell_type": "markdown",
   "id": "f5da80db",
   "metadata": {},
   "source": [
    "# Optimizer creation:"
   ]
  },
  {
   "cell_type": "code",
   "execution_count": null,
   "id": "340e8a4c",
   "metadata": {},
   "outputs": [
    {
     "name": "stdout",
     "output_type": "stream",
     "text": [
      "Initialized optimizer: Adam lr=0.001\n"
     ]
    }
   ],
   "source": [
    "# define optax optimizer\n",
    "learning_rate = 0.001\n",
    "# Create Adam optimizer (Optax)\n",
    "tx = optax.adam(learning_rate=learning_rate)\n",
    "# Initialize optimizer state for current params\n",
    "opt_state = tx.init(params)\n",
    "print(f\"Initialized optimizer: Adam lr={learning_rate}\")\n",
    "\n"
   ]
  },
  {
   "cell_type": "code",
   "execution_count": null,
   "id": "28f2f1d0",
   "metadata": {},
   "outputs": [
    {
     "name": "stdout",
     "output_type": "stream",
     "text": [
      "iteration 0  time: 0.0 seconds\n",
      "\t \t loss(train :: test): 2.1392 :: 2.1411\n",
      "\t \t accuracy (train :: test): 36.1% :: 36.7%\n",
      "\t \t accuracy (last character) (train :: test): 43.8% :: 38.3%\n",
      "\n",
      "iteration 200  time: 82.3 seconds\n",
      "\t \t loss(train :: test): 2.0511 :: 1.9834\n",
      "\t \t accuracy (train :: test): 38.4% :: 40.9%\n",
      "\t \t accuracy (last character) (train :: test): 37.5% :: 41.2%\n",
      "\n",
      "iteration 400  time: 169.5 seconds\n",
      "\t \t loss(train :: test): 1.9439 :: 1.8761\n",
      "\t \t accuracy (train :: test): 41.6% :: 43.3%\n",
      "\t \t accuracy (last character) (train :: test): 32.8% :: 47.1%\n",
      "\n",
      "iteration 600  time: 259.9 seconds\n",
      "\t \t loss(train :: test): 1.8067 :: 1.8186\n",
      "\t \t accuracy (train :: test): 46.3% :: 45.1%\n",
      "\t \t accuracy (last character) (train :: test): 45.3% :: 47.6%\n",
      "\n",
      "iteration 800  time: 348.8 seconds\n",
      "\t \t loss(train :: test): 1.7673 :: 1.7772\n",
      "\t \t accuracy (train :: test): 46.5% :: 46.8%\n",
      "\t \t accuracy (last character) (train :: test): 46.9% :: 48.1%\n",
      "\n",
      "iteration 999  time: 435.9 seconds\n",
      "\t \t loss(train :: test): 1.7140 :: 1.7024\n",
      "\t \t accuracy (train :: test): 49.1% :: 49.2%\n",
      "\t \t accuracy (last character) (train :: test): 42.2% :: 50.8%\n",
      "\n"
     ]
    }
   ],
   "source": [
    "niter = 1_000\n",
    "B, T = 128, 32\n",
    "loss_history = []\n",
    "time_history = []\n",
    "time_test_history = []\n",
    "loss_test_history = []\n",
    "time_start = time.time()\n",
    "for it in range(niter):\n",
    "    batch = get_batch(train_text_int, B, T)\n",
    "    input, target = batch[0], batch[1]\n",
    "    params_new, opt_state_new, metrics = train_step(params, opt_state, input, target, tx)\n",
    "\n",
    "    # update params and opt_state\n",
    "    params = params_new\n",
    "    opt_state = opt_state_new\n",
    "    acc = metrics['acc']\n",
    "    acc_last = metrics['acc_last']\n",
    "    loss = metrics['loss']\n",
    "    \n",
    "    loss_history.append(loss)\n",
    "    time_history.append(time.time() - time_start)\n",
    "    \n",
    "    if it % (niter // 50) == 0 or it == niter - 1:\n",
    "        time_since_start = time.time() - time_start\n",
    "        # compute loss on test set\n",
    "        B_test, T_test = 1024, 32\n",
    "        test_batch = get_batch(test_text_int, B_test, T_test)\n",
    "        test_input, test_target = test_batch[0], test_batch[1]\n",
    "        test_logits, _ = model.apply({\"params\": params}, test_input)\n",
    "        test_loss, test_metrics = loss_and_metrics(test_logits, test_target)\n",
    "        test_acc = test_metrics['acc']\n",
    "        test_acc_last = test_metrics['acc_last']\n",
    "        loss_test_history.append(test_loss)\n",
    "        time_test_history.append(time_since_start)\n",
    "        if it % (niter // 5) == 0 or it == niter - 1:\n",
    "            print(f\"iteration {it:_}  time: {time_since_start:.1f} seconds\")\n",
    "            print(f\"\\t \\t loss(train :: test): {loss:.4f} :: {test_loss:.4f}\")\n",
    "            print(f\"\\t \\t accuracy (train :: test): {100*acc:.1f}% :: {100*test_acc:.1f}%\")\n",
    "            print(f\"\\t \\t accuracy (last character) (train :: test): {100*acc_last:.1f}% :: {100*test_acc_last:.1f}%\")\n",
    "            print()\n"
   ]
  },
  {
   "cell_type": "code",
   "execution_count": null,
   "id": "217fb628",
   "metadata": {},
   "outputs": [
    {
     "data": {
      "image/png": "[encoded data removed]",
      "text/plain": [
       "<Figure size 640x480 with 1 Axes>"
      ]
     },
     "metadata": {},
     "output_type": "display_data"
    }
   ],
   "source": [
    "# plot the loss history\n",
    "import matplotlib.pyplot as plt\n",
    "plt.plot(time_history, loss_history, '-', label='train', color=\"blue\")\n",
    "plt.plot(time_test_history, loss_test_history, '-', label='test', lw=2, color=\"red\")\n",
    "plt.xlabel(\"Time (seconds)\")\n",
    "plt.ylabel(\"Loss\")\n",
    "plt.legend(loc='upper right')\n",
    "plt.title(\"Training Loss History\")\n",
    "plt.grid()"
   ]
  },
  {
   "cell_type": "code",
   "execution_count": null,
   "id": "fbb0b0d1",
   "metadata": {},
   "outputs": [
    {
     "ename": "AttributeError",
     "evalue": "\"Embed\" object has no attribute \"embedding\". If \"embedding\" is defined in '.setup()', remember these fields are only accessible from inside 'init' or 'apply'.",
     "output_type": "error",
     "traceback": [
      "\u001b[31m---------------------------------------------------------------------------\u001b[39m",
      "\u001b[31mAttributeError\u001b[39m                            Traceback (most recent call last)",
      "\u001b[36mCell\u001b[39m\u001b[36m \u001b[39m\u001b[32mIn[36]\u001b[39m\u001b[32m, line 9\u001b[39m\n\u001b[32m      6\u001b[39m prompt_int = jnp.array([ [char_to_int.get(c, \u001b[38;5;28mlen\u001b[39m(char_set)) \u001b[38;5;28;01mfor\u001b[39;00m c \u001b[38;5;129;01min\u001b[39;00m prompt.lower()[:\u001b[32m64\u001b[39m]] ], dtype=jnp.int32)\n\u001b[32m      8\u001b[39m gen_len = \u001b[32m1000\u001b[39m\n\u001b[32m----> \u001b[39m\u001b[32m9\u001b[39m out_ids = \u001b[43mgeneration\u001b[49m\u001b[43m.\u001b[49m\u001b[43mgenerate_tokens\u001b[49m\u001b[43m(\u001b[49m\u001b[43mmodel\u001b[49m\u001b[43m,\u001b[49m\u001b[43m \u001b[49m\u001b[43mparams\u001b[49m\u001b[43m,\u001b[49m\u001b[43m \u001b[49m\u001b[43mrng\u001b[49m\u001b[43m,\u001b[49m\u001b[43m \u001b[49m\u001b[43mprompt_int\u001b[49m\u001b[43m,\u001b[49m\u001b[43m \u001b[49m\u001b[43mgen_len\u001b[49m\u001b[43m,\u001b[49m\u001b[43m \u001b[49m\u001b[43mblock_size\u001b[49m\u001b[43m=\u001b[49m\u001b[32;43m64\u001b[39;49m\u001b[43m,\u001b[49m\u001b[43m \u001b[49m\n\u001b[32m     10\u001b[39m \u001b[43m                          \u001b[49m\u001b[43mtemperature\u001b[49m\u001b[43m=\u001b[49m\u001b[32;43m0.7\u001b[39;49m\u001b[43m,\u001b[49m\u001b[43m \u001b[49m\u001b[43msample\u001b[49m\u001b[43m=\u001b[49m\u001b[38;5;28;43;01mTrue\u001b[39;49;00m\u001b[43m)\u001b[49m\n\u001b[32m     11\u001b[39m \u001b[38;5;28mprint\u001b[39m(\u001b[33m'\u001b[39m\u001b[33mgenerated ids shape:\u001b[39m\u001b[33m'\u001b[39m, out_ids.shape)\n\u001b[32m     12\u001b[39m \u001b[38;5;28mprint\u001b[39m(\u001b[33m'\u001b[39m\u001b[33mgenerated text:\u001b[39m\u001b[33m'\u001b[39m)\n",
      "\u001b[36mFile \u001b[39m\u001b[32m~/Documents/char_transformer/util/generation.py:55\u001b[39m, in \u001b[36mgenerate_tokens\u001b[39m\u001b[34m(model, params, rng, context, length, block_size, temperature, sample)\u001b[39m\n\u001b[32m     52\u001b[39m     \u001b[38;5;28;01mreturn\u001b[39;00m (rng, new_ctx), next_token_col\n\u001b[32m     54\u001b[39m \u001b[38;5;66;03m# run scan for `length` steps\u001b[39;00m\n\u001b[32m---> \u001b[39m\u001b[32m55\u001b[39m (rng_final, ctx_final), tokens = \u001b[43mjax\u001b[49m\u001b[43m.\u001b[49m\u001b[43mlax\u001b[49m\u001b[43m.\u001b[49m\u001b[43mscan\u001b[49m\u001b[43m(\u001b[49m\u001b[43m_step\u001b[49m\u001b[43m,\u001b[49m\u001b[43m \u001b[49m\u001b[43m(\u001b[49m\u001b[43mrng\u001b[49m\u001b[43m,\u001b[49m\u001b[43m \u001b[49m\u001b[43mcontext\u001b[49m\u001b[43m)\u001b[49m\u001b[43m,\u001b[49m\u001b[43m \u001b[49m\u001b[38;5;28;43;01mNone\u001b[39;49;00m\u001b[43m,\u001b[49m\u001b[43m \u001b[49m\u001b[43mlength\u001b[49m\u001b[43m=\u001b[49m\u001b[43mlength\u001b[49m\u001b[43m)\u001b[49m\n\u001b[32m     56\u001b[39m \u001b[38;5;66;03m# tokens: shape (length, B, 1) -> reshape to (B, length)\u001b[39;00m\n\u001b[32m     57\u001b[39m tokens = tokens.squeeze(-\u001b[32m1\u001b[39m).transpose(\u001b[32m1\u001b[39m, \u001b[32m0\u001b[39m)\n",
      "    \u001b[31m[... skipping hidden 10 frame]\u001b[39m\n",
      "\u001b[36mFile \u001b[39m\u001b[32m~/Documents/char_transformer/util/generation.py:41\u001b[39m, in \u001b[36mgenerate_tokens.<locals>._step\u001b[39m\u001b[34m(carry, _)\u001b[39m\n\u001b[32m     39\u001b[39m rng, ctx = carry  \u001b[38;5;66;03m# rng: PRNGKey, ctx: (B, block_size)\u001b[39;00m\n\u001b[32m     40\u001b[39m \u001b[38;5;66;03m# forward pass: get logits for all positions, take last position\u001b[39;00m\n\u001b[32m---> \u001b[39m\u001b[32m41\u001b[39m logits = \u001b[43mmodel\u001b[49m\u001b[43m.\u001b[49m\u001b[43mapply\u001b[49m\u001b[43m(\u001b[49m\u001b[43m{\u001b[49m\u001b[33;43m\"\u001b[39;49m\u001b[33;43mparams\u001b[39;49m\u001b[33;43m\"\u001b[39;49m\u001b[43m:\u001b[49m\u001b[43m \u001b[49m\u001b[43mparams\u001b[49m\u001b[43m}\u001b[49m\u001b[43m,\u001b[49m\u001b[43m \u001b[49m\u001b[43mctx\u001b[49m\u001b[43m)\u001b[49m  \u001b[38;5;66;03m# (B, block_size, V)\u001b[39;00m\n\u001b[32m     42\u001b[39m last_logits = logits[:, -\u001b[32m1\u001b[39m, :]  \u001b[38;5;66;03m# (B, V)\u001b[39;00m\n\u001b[32m     43\u001b[39m rng, subkey = jax.random.split(rng)\n",
      "    \u001b[31m[... skipping hidden 7 frame]\u001b[39m\n",
      "\u001b[36mFile \u001b[39m\u001b[32m~/Documents/char_transformer/.env/lib/python3.12/site-packages/flax/linen/linear.py:1189\u001b[39m, in \u001b[36mEmbed.__call__\u001b[39m\u001b[34m(self, inputs)\u001b[39m\n\u001b[32m   1185\u001b[39m   \u001b[38;5;28;01mraise\u001b[39;00m \u001b[38;5;167;01mValueError\u001b[39;00m(\u001b[33m'\u001b[39m\u001b[33mInput type must be an integer or unsigned integer.\u001b[39m\u001b[33m'\u001b[39m)\n\u001b[32m   1186\u001b[39m \u001b[38;5;66;03m# Use take because fancy indexing numpy arrays with JAX indices does not\u001b[39;00m\n\u001b[32m   1187\u001b[39m \u001b[38;5;66;03m# work correctly.\u001b[39;00m\n\u001b[32m   1188\u001b[39m (embedding,) = \u001b[38;5;28mself\u001b[39m.promote_dtype(\n\u001b[32m-> \u001b[39m\u001b[32m1189\u001b[39m   \u001b[38;5;28;43mself\u001b[39;49m\u001b[43m.\u001b[49m\u001b[43membedding\u001b[49m, dtype=\u001b[38;5;28mself\u001b[39m.dtype, inexact=\u001b[38;5;28;01mFalse\u001b[39;00m\n\u001b[32m   1190\u001b[39m )\n\u001b[32m   1191\u001b[39m \u001b[38;5;28;01massert\u001b[39;00m embedding \u001b[38;5;129;01mis\u001b[39;00m \u001b[38;5;129;01mnot\u001b[39;00m \u001b[38;5;28;01mNone\u001b[39;00m\n\u001b[32m   1192\u001b[39m \u001b[38;5;28;01mif\u001b[39;00m \u001b[38;5;28mself\u001b[39m.num_embeddings == \u001b[32m1\u001b[39m:\n",
      "\u001b[36mFile \u001b[39m\u001b[32m~/Documents/char_transformer/.env/lib/python3.12/site-packages/flax/linen/module.py:1314\u001b[39m, in \u001b[36mModule.__getattr__\u001b[39m\u001b[34m(self, name)\u001b[39m\n\u001b[32m   1309\u001b[39m \u001b[38;5;28;01mif\u001b[39;00m \u001b[38;5;28mself\u001b[39m.scope \u001b[38;5;129;01mis\u001b[39;00m \u001b[38;5;28;01mNone\u001b[39;00m:\n\u001b[32m   1310\u001b[39m   msg += (\n\u001b[32m   1311\u001b[39m     \u001b[33mf\u001b[39m\u001b[33m'\u001b[39m\u001b[33m If \u001b[39m\u001b[33m\"\u001b[39m\u001b[38;5;132;01m{\u001b[39;00mname\u001b[38;5;132;01m}\u001b[39;00m\u001b[33m\"\u001b[39m\u001b[33m is defined in \u001b[39m\u001b[38;5;130;01m\\'\u001b[39;00m\u001b[33m.setup()\u001b[39m\u001b[38;5;130;01m\\'\u001b[39;00m\u001b[33m, remember these fields \u001b[39m\u001b[33m'\u001b[39m\n\u001b[32m   1312\u001b[39m     \u001b[33m\"\u001b[39m\u001b[33mare only accessible from inside \u001b[39m\u001b[33m'\u001b[39m\u001b[33minit\u001b[39m\u001b[33m'\u001b[39m\u001b[33m or \u001b[39m\u001b[33m'\u001b[39m\u001b[33mapply\u001b[39m\u001b[33m'\u001b[39m\u001b[33m.\u001b[39m\u001b[33m\"\u001b[39m\n\u001b[32m   1313\u001b[39m   )\n\u001b[32m-> \u001b[39m\u001b[32m1314\u001b[39m \u001b[38;5;28;01mraise\u001b[39;00m \u001b[38;5;167;01mAttributeError\u001b[39;00m(msg)\n",
      "\u001b[31mAttributeError\u001b[39m: \"Embed\" object has no attribute \"embedding\". If \"embedding\" is defined in '.setup()', remember these fields are only accessible from inside 'init' or 'apply'."
     ]
    }
   ],
   "source": [
    "B = 1\n",
    "seed = 42\n",
    "rng = jax.random.PRNGKey(seed)\n",
    "prompt = \"hello my fri\"\n",
    "# prompt_int = encode(prompt.lower())\n",
    "prompt_int = jnp.array([ [char_to_int.get(c, len(char_set)) for c in prompt.lower()[:64]] ], dtype=jnp.int32)\n",
    "\n",
    "gen_len = 1000\n",
    "out_ids = generation.generate_tokens(model, params, rng, prompt_int, gen_len, block_size=64, \n",
    "                          temperature=0.7, sample=True)\n",
    "print('generated ids shape:', out_ids.shape)\n",
    "print('generated text:')\n",
    "generated_text = ''.join(int_to_char.get(int(x), '?') for x in list(out_ids[0]))\n",
    "# concatenate with prompt\n",
    "print(prompt + generated_text)\n",
    "#print(''.join(int_to_char.get(int(x), '?') for x in list(out_ids[0])))"
   ]
  }
 ],
 "metadata": {
  "kernelspec": {
   "display_name": ".env",
   "language": "python",
   "name": "python3"
  },
  "language_info": {
   "codemirror_mode": {
    "name": "ipython",
    "version": 3
   },
   "file_extension": ".py",
   "mimetype": "text/x-python",
   "name": "python",
   "nbconvert_exporter": "python",
   "pygments_lexer": "ipython3",
   "version": "3.12.10"
  }
 },
 "nbformat": 4,
 "nbformat_minor": 5
}
